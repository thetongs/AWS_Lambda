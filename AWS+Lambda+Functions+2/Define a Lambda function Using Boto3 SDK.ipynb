{
 "cells": [
  {
   "cell_type": "code",
   "execution_count": 1,
   "id": "acdfcab3",
   "metadata": {},
   "outputs": [
    {
     "name": "stdout",
     "output_type": "stream",
     "text": [
      "Writing lambda_function.py\n"
     ]
    }
   ],
   "source": [
    "%%writefile lambda_function.py\n",
    "\n",
    "import json\n",
    "\n",
    "def lambda_handler(event, context):\n",
    "    # TODO implement\n",
    "    print('Welcome to my first AWS Lambda Function!')\n",
    "    if event['Bank Client ID'] == \"000\":\n",
    "        return 'Bank Client ID 000 corresponds to client name: David Chen'\n",
    "    elif event['Bank Client ID'] == \"001\":\n",
    "        return 'Bank Client ID 001 corresponds to client name: Kim Richard'\n",
    "    elif event['Bank Client ID'] == \"002\":\n",
    "        return 'Bank Client ID 002 corresponds to client name: Adam Aly'\n",
    "    else:\n",
    "        return 'I do not recognize this ID'\n",
    "     "
   ]
  },
  {
   "cell_type": "code",
   "execution_count": 3,
   "id": "648f8bfd",
   "metadata": {},
   "outputs": [
    {
     "ename": "ModuleNotFoundError",
     "evalue": "No module named 'boto3'",
     "output_type": "error",
     "traceback": [
      "\u001b[1;31m---------------------------------------------------------------------------\u001b[0m",
      "\u001b[1;31mModuleNotFoundError\u001b[0m                       Traceback (most recent call last)",
      "\u001b[1;32m<ipython-input-3-1aafcacf8129>\u001b[0m in \u001b[0;36m<module>\u001b[1;34m\u001b[0m\n\u001b[0;32m      1\u001b[0m \u001b[1;31m# Boto3 is the Amazon Web Services (AWS) Software Development Kit (SDK) for Python\u001b[0m\u001b[1;33m\u001b[0m\u001b[1;33m\u001b[0m\u001b[1;33m\u001b[0m\u001b[0m\n\u001b[0;32m      2\u001b[0m \u001b[1;31m# Boto3 allows Python developer to write software that makes use of services like Amazon S3 and Amazon EC2\u001b[0m\u001b[1;33m\u001b[0m\u001b[1;33m\u001b[0m\u001b[1;33m\u001b[0m\u001b[0m\n\u001b[1;32m----> 3\u001b[1;33m \u001b[1;32mimport\u001b[0m \u001b[0mboto3\u001b[0m\u001b[1;33m\u001b[0m\u001b[1;33m\u001b[0m\u001b[0m\n\u001b[0m\u001b[0;32m      4\u001b[0m \u001b[1;33m\u001b[0m\u001b[0m\n\u001b[0;32m      5\u001b[0m \u001b[1;33m\u001b[0m\u001b[0m\n",
      "\u001b[1;31mModuleNotFoundError\u001b[0m: No module named 'boto3'"
     ]
    }
   ],
   "source": [
    "# Boto3 is the Amazon Web Services (AWS) Software Development Kit (SDK) for Python\n",
    "# Boto3 allows Python developer to write software that makes use of services like Amazon S3 and Amazon EC2\n",
    "import boto3\n",
    "\n",
    "\n",
    "# You must zip up the code of the lambda function at some point\n",
    "# so let's import ZipFile Module\n",
    "# This module provides tools to create, read, write, append, and list a ZIP file.\n",
    "from zipfile import ZipFile\n",
    "with ZipFile('lambda.zip', 'w') as f:\n",
    "    f.write('lambda_function.py')\n",
    "    "
   ]
  },
  {
   "cell_type": "code",
   "execution_count": 5,
   "id": "95a22fd2",
   "metadata": {},
   "outputs": [],
   "source": [
    "# If submitting as a ZipFile, you need to insert raw data. \n",
    "with open('lambda.zip', 'rb') as f:\n",
    "    zipped_code = f.read()\n",
    "    "
   ]
  },
  {
   "cell_type": "code",
   "execution_count": null,
   "id": "513bafa1",
   "metadata": {},
   "outputs": [],
   "source": [
    "client = boto3.client('lambda')"
   ]
  },
  {
   "cell_type": "code",
   "execution_count": 12,
   "id": "4448effd",
   "metadata": {},
   "outputs": [],
   "source": [
    "\n",
    "# Note that SageMaker Notebooks don't have access to lambda by default \n",
    "# So you need to give permission to this SageMaker Notebook to access lambda\n",
    "response = client.create_function(\n",
    "    FunctionName = 'MyFirstLambdaFunctionUsingBoto3',\n",
    "    Runtime = 'python3.8',\n",
    "    Handler = 'lambda_function.lambda_handler',\n",
    "    Code = dict(ZipFile=zipped_code),    \n",
    "    Timeout = 60,\n",
    "    MemorySize = 512,\n",
    "    Role = 'arn:aws:iam::422132866096:role/service-role/My-First-Lambda-role-ozpjvowf'\n",
    ")"
   ]
  },
  {
   "cell_type": "code",
   "execution_count": null,
   "id": "74109644",
   "metadata": {},
   "outputs": [],
   "source": []
  }
 ],
 "metadata": {
  "kernelspec": {
   "display_name": "Python 3",
   "language": "python",
   "name": "python3"
  },
  "language_info": {
   "codemirror_mode": {
    "name": "ipython",
    "version": 3
   },
   "file_extension": ".py",
   "mimetype": "text/x-python",
   "name": "python",
   "nbconvert_exporter": "python",
   "pygments_lexer": "ipython3",
   "version": "3.8.8"
  }
 },
 "nbformat": 4,
 "nbformat_minor": 5
}
