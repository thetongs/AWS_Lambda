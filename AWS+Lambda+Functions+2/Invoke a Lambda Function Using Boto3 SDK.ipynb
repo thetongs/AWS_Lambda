{
 "cells": [
  {
   "cell_type": "markdown",
   "id": "08d93fb0",
   "metadata": {},
   "source": [
    "# TASK #1. DEFINE A LAMBDA FUNCTION"
   ]
  },
  {
   "cell_type": "code",
   "execution_count": 1,
   "id": "4e623cb8",
   "metadata": {},
   "outputs": [
    {
     "name": "stdout",
     "output_type": "stream",
     "text": [
      "Overwriting lambda_function.py\n"
     ]
    }
   ],
   "source": [
    "%%writefile lambda_function.py\n",
    "\n",
    "import json\n",
    "\n",
    "def lambda_handler(event, context):\n",
    "    # TODO implement\n",
    "    print('Welcome to my first AWS Lambda Function!')\n",
    "    if event['Bank Client ID'] == \"000\":\n",
    "        print('Bank Client ID 000 corresponds to client name: David Chen')\n",
    "    elif event['Bank Client ID'] == \"001\":\n",
    "        print('Bank Client ID 001 corresponds to client name: Kim Richard')\n",
    "    elif event['Bank Client ID'] == \"002\":\n",
    "        print('Bank Client ID 002 corresponds to client name: Adam Aly')\n",
    "    else:\n",
    "        return 'I do not recognize this ID'\n",
    "     "
   ]
  },
  {
   "cell_type": "code",
   "execution_count": 2,
   "id": "f48c8e4d",
   "metadata": {},
   "outputs": [
    {
     "ename": "ModuleNotFoundError",
     "evalue": "No module named 'boto3'",
     "output_type": "error",
     "traceback": [
      "\u001b[1;31m---------------------------------------------------------------------------\u001b[0m",
      "\u001b[1;31mModuleNotFoundError\u001b[0m                       Traceback (most recent call last)",
      "\u001b[1;32m<ipython-input-2-5902feb7b87f>\u001b[0m in \u001b[0;36m<module>\u001b[1;34m\u001b[0m\n\u001b[0;32m      1\u001b[0m \u001b[1;31m# Boto3 is the Amazon Web Services (AWS) Software Development Kit (SDK) for Python\u001b[0m\u001b[1;33m\u001b[0m\u001b[1;33m\u001b[0m\u001b[1;33m\u001b[0m\u001b[0m\n\u001b[0;32m      2\u001b[0m \u001b[1;31m# Boto3 allows Python developer to write software that makes use of services like Amazon S3 and Amazon EC2\u001b[0m\u001b[1;33m\u001b[0m\u001b[1;33m\u001b[0m\u001b[1;33m\u001b[0m\u001b[0m\n\u001b[1;32m----> 3\u001b[1;33m \u001b[1;32mimport\u001b[0m \u001b[0mboto3\u001b[0m\u001b[1;33m\u001b[0m\u001b[1;33m\u001b[0m\u001b[0m\n\u001b[0m\u001b[0;32m      4\u001b[0m \u001b[1;33m\u001b[0m\u001b[0m\n\u001b[0;32m      5\u001b[0m \u001b[1;33m\u001b[0m\u001b[0m\n",
      "\u001b[1;31mModuleNotFoundError\u001b[0m: No module named 'boto3'"
     ]
    }
   ],
   "source": [
    "# Boto3 is the Amazon Web Services (AWS) Software Development Kit (SDK) for Python\n",
    "# Boto3 allows Python developer to write software that makes use of services like Amazon S3 and Amazon EC2\n",
    "import boto3\n",
    "\n",
    "\n",
    "# You must zip up the code of the lambda function at some point\n",
    "# so let's import ZipFile Module\n",
    "# This module provides tools to create, read, write, append, and list a ZIP file.\n",
    "from zipfile import ZipFile\n",
    "with ZipFile('lambda.zip', 'w') as f:\n",
    "    f.write('lambda_function.py')\n",
    "    \n",
    "# If submitting as a ZipFile, you need to insert raw data. \n",
    "with open('lambda.zip', 'rb') as f:\n",
    "    zipped_code = f.read()\n",
    "    \n",
    "# Note that SageMaker Notebooks don't have access to lambda by default \n",
    "# So you need to give permission to this SageMaker Notebook to access lambda\n",
    "response = client.create_function(\n",
    "    FunctionName = 'MyThirdLambdaFunctionUsingBoto3',\n",
    "    Runtime = 'python3.8',\n",
    "    Handler = 'lambda_function.lambda_handler',\n",
    "    Code = dict(ZipFile=zipped_code),    \n",
    "    Timeout = 60,\n",
    "    MemorySize = 512,\n",
    "    Role = 'arn:aws:iam::422132866096:role/service-role/My-First-Lambda-role-ozpjvowf'\n",
    ")"
   ]
  },
  {
   "cell_type": "markdown",
   "id": "89c809b4",
   "metadata": {},
   "source": [
    "# TASK #2: LET'S INVOKE THIS LAMBDA FUNCTION USING SDK"
   ]
  },
  {
   "cell_type": "code",
   "execution_count": 2,
   "id": "71f87a13",
   "metadata": {},
   "outputs": [],
   "source": [
    "import boto3\n",
    "import json \n",
    "client = boto3.client('lambda')"
   ]
  },
  {
   "cell_type": "code",
   "execution_count": 3,
   "id": "c2144840",
   "metadata": {},
   "outputs": [],
   "source": [
    "# FunctionName: write a function name\n",
    "# InvocationType (string) \n",
    "# 1. RequestResponse (default) - Invoke the function synchronously. Keep the connection open until the function returns a response or times out. The API response includes the function response and additional data.\n",
    "# 2. Event - Invoke the function asynchronously. Send events that fail multiple times to the function's dead-letter queue (if it's configured). The API response only includes a status code.\n",
    "# 3. DryRun - Validate parameter values and verify that the user or role has permission to invoke the function.\n",
    "\n",
    "# LogType (string): Set to Tail to include the execution log in the response. Applies to synchronously invoked functions only.\n",
    "# ClientContext (string): Up to 3583 bytes of base64-encoded data about the invoking client to pass to the function in the context object.\n",
    "# Payload (bytes or seekable file-like object: The JSON that you want to provide to your Lambda function as input.\n",
    "# You can enter the JSON directly. For example, --payload '{ \"key\": \"value\" }' \n",
    "# You can also specify a file path. For example, --payload file://payload.json \n",
    "\n",
    "\n",
    "response = client.invoke(\n",
    "    FunctionName = 'MyThirdLambdaFunctionUsingBoto3',\n",
    "    InvocationType = 'Event',\n",
    "    LogType = 'Tail',\n",
    "    ClientContext = 'string',\n",
    "    Payload = json.dumps({'Bank Client ID':'003'}).encode('utf-8'),\n",
    ")"
   ]
  },
  {
   "cell_type": "code",
   "execution_count": 4,
   "id": "828839f4",
   "metadata": {},
   "outputs": [
    {
     "name": "stdout",
     "output_type": "stream",
     "text": [
      "{'ResponseMetadata': {'RequestId': '3c5201b4-2288-4146-81eb-a6375c3b326d', 'HTTPStatusCode': 202, 'HTTPHeaders': {'date': 'Tue, 15 Feb 2022 20:05:18 GMT', 'content-length': '0', 'connection': 'keep-alive', 'x-amzn-requestid': '3c5201b4-2288-4146-81eb-a6375c3b326d', 'x-amzn-remapped-content-length': '0', 'x-amzn-trace-id': 'root=1-620c077e-25c862a43477e6d2227919ae;sampled=0'}, 'RetryAttempts': 0}, 'StatusCode': 202, 'Payload': <botocore.response.StreamingBody object at 0x7fe30fbb1a90>}\n"
     ]
    }
   ],
   "source": [
    "print(response)"
   ]
  }
 ],
 "metadata": {
  "kernelspec": {
   "display_name": "Python 3",
   "language": "python",
   "name": "python3"
  },
  "language_info": {
   "codemirror_mode": {
    "name": "ipython",
    "version": 3
   },
   "file_extension": ".py",
   "mimetype": "text/x-python",
   "name": "python",
   "nbconvert_exporter": "python",
   "pygments_lexer": "ipython3",
   "version": "3.8.8"
  }
 },
 "nbformat": 4,
 "nbformat_minor": 5
}
