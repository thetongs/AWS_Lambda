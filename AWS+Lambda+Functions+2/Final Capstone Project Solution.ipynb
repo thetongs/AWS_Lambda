{
 "cells": [
  {
   "cell_type": "markdown",
   "id": "340e74ae",
   "metadata": {},
   "source": [
    "# TASK #1. DEFINE A LAMBDA FUNCTION"
   ]
  },
  {
   "cell_type": "code",
   "execution_count": 1,
   "id": "89505b96",
   "metadata": {},
   "outputs": [
    {
     "name": "stdout",
     "output_type": "stream",
     "text": [
      "Writing lambda_function.py\n"
     ]
    }
   ],
   "source": [
    "%%writefile lambda_function.py\n",
    "\n",
    "import json\n",
    "import uuid\n",
    " \n",
    "def lambda_handler(event, context):\n",
    "    \n",
    "    # Read the input parameters\n",
    "    count   = event['StockUnits']\n",
    "    price   = event['StockPrice']\n",
    " \n",
    "    # Calculate the total dollar value\n",
    "    total =  count * price\n",
    " \n",
    "    # Return the result\n",
    "    return {\n",
    "        'TotalFunds' :   total\n",
    "            }\n"
   ]
  },
  {
   "cell_type": "code",
   "execution_count": 3,
   "id": "0f636fdd",
   "metadata": {},
   "outputs": [],
   "source": [
    "# Boto3 is the Amazon Web Services (AWS) Software Development Kit (SDK) for Python\n",
    "# Boto3 allows Python developer to write software that makes use of services like Amazon S3 and Amazon EC2\n",
    "import boto3\n",
    "import json \n",
    "client = boto3.client('lambda')\n",
    "\n",
    "# You must zip up the code of the lambda function at some point\n",
    "# so let's import ZipFile Module\n",
    "# This module provides tools to create, read, write, append, and list a ZIP file.\n",
    "from zipfile import ZipFile\n",
    "with ZipFile('lambda.zip', 'w') as f:\n",
    "    f.write('lambda_function.py')\n",
    "    \n",
    "# If submitting as a ZipFile, you need to insert raw data. \n",
    "with open('lambda.zip', 'rb') as f:\n",
    "    zipped_code = f.read()\n",
    "    \n",
    "# Note that SageMaker Notebooks don't have access to lambda by default \n",
    "# So you need to give permission to this SageMaker Notebook to access lambda\n",
    "response = client.create_function(\n",
    "    FunctionName = 'FundsCalculator',\n",
    "    Runtime = 'python3.8',\n",
    "    Handler = 'lambda_function.lambda_handler',\n",
    "    Code = dict(ZipFile=zipped_code),    \n",
    "    Timeout = 60,\n",
    "    MemorySize = 512,\n",
    "    Role = 'arn:aws:iam::422132866096:role/service-role/My-First-Lambda-role-ozpjvowf'\n",
    ")"
   ]
  },
  {
   "cell_type": "markdown",
   "id": "6c8946df",
   "metadata": {},
   "source": [
    "# TASK #2. INVOKE A LAMBDA FUNCTION"
   ]
  },
  {
   "cell_type": "code",
   "execution_count": 5,
   "id": "9d8851af",
   "metadata": {},
   "outputs": [
    {
     "name": "stdout",
     "output_type": "stream",
     "text": [
      "What is the unit price of the stock you would like to buy20\n",
      "How many stocks units you would like to purchase?30\n"
     ]
    }
   ],
   "source": [
    "\n",
    "# Obtain How many stocks and the number of stocks from the bank customer\n",
    "\n",
    "stock_price = int(input('What is the unit price of the stock you would like to buy'))\n",
    "stock_count = int(input('How many stocks units you would like to purchase?'))\n",
    "\n",
    "\n",
    "response = client.invoke(\n",
    "    FunctionName = 'FundsCalculator',\n",
    "    InvocationType = 'RequestResponse',\n",
    "    LogType = 'Tail',\n",
    "    Payload = json.dumps({'StockUnits' : stock_count, 'StockPrice' : stock_price}).encode('utf-8'),\n",
    ")\n"
   ]
  },
  {
   "cell_type": "code",
   "execution_count": 6,
   "id": "733d8a1e",
   "metadata": {},
   "outputs": [
    {
     "name": "stdout",
     "output_type": "stream",
     "text": [
      "{'ResponseMetadata': {'RequestId': 'c87fab28-d3d8-4822-98fc-0b7532c47bc6', 'HTTPStatusCode': 200, 'HTTPHeaders': {'date': 'Tue, 15 Feb 2022 22:20:05 GMT', 'content-type': 'application/json', 'content-length': '19', 'connection': 'keep-alive', 'x-amzn-requestid': 'c87fab28-d3d8-4822-98fc-0b7532c47bc6', 'x-amzn-remapped-content-length': '0', 'x-amz-executed-version': '$LATEST', 'x-amz-log-result': 'U1RBUlQgUmVxdWVzdElkOiBjODdmYWIyOC1kM2Q4LTQ4MjItOThmYy0wYjc1MzJjNDdiYzYgVmVyc2lvbjogJExBVEVTVApFTkQgUmVxdWVzdElkOiBjODdmYWIyOC1kM2Q4LTQ4MjItOThmYy0wYjc1MzJjNDdiYzYKUkVQT1JUIFJlcXVlc3RJZDogYzg3ZmFiMjgtZDNkOC00ODIyLTk4ZmMtMGI3NTMyYzQ3YmM2CUR1cmF0aW9uOiAyOS4xMCBtcwlCaWxsZWQgRHVyYXRpb246IDMwIG1zCU1lbW9yeSBTaXplOiA1MTIgTUIJTWF4IE1lbW9yeSBVc2VkOiA0MCBNQglJbml0IER1cmF0aW9uOiAyNzguMTYgbXMJCg==', 'x-amzn-trace-id': 'root=1-620c2715-4dca67ed3db9583a5a9b7c72;sampled=0'}, 'RetryAttempts': 0}, 'StatusCode': 200, 'LogResult': 'U1RBUlQgUmVxdWVzdElkOiBjODdmYWIyOC1kM2Q4LTQ4MjItOThmYy0wYjc1MzJjNDdiYzYgVmVyc2lvbjogJExBVEVTVApFTkQgUmVxdWVzdElkOiBjODdmYWIyOC1kM2Q4LTQ4MjItOThmYy0wYjc1MzJjNDdiYzYKUkVQT1JUIFJlcXVlc3RJZDogYzg3ZmFiMjgtZDNkOC00ODIyLTk4ZmMtMGI3NTMyYzQ3YmM2CUR1cmF0aW9uOiAyOS4xMCBtcwlCaWxsZWQgRHVyYXRpb246IDMwIG1zCU1lbW9yeSBTaXplOiA1MTIgTUIJTWF4IE1lbW9yeSBVc2VkOiA0MCBNQglJbml0IER1cmF0aW9uOiAyNzguMTYgbXMJCg==', 'ExecutedVersion': '$LATEST', 'Payload': <botocore.response.StreamingBody object at 0x7fa19084f438>}\n"
     ]
    }
   ],
   "source": [
    "print(response)"
   ]
  },
  {
   "cell_type": "code",
   "execution_count": 7,
   "id": "9fd0bb49",
   "metadata": {},
   "outputs": [],
   "source": [
    "data = response['Payload'].read()"
   ]
  },
  {
   "cell_type": "code",
   "execution_count": 8,
   "id": "bfc7231e",
   "metadata": {},
   "outputs": [
    {
     "name": "stdout",
     "output_type": "stream",
     "text": [
      "b'{\"TotalFunds\": 600}'\n"
     ]
    }
   ],
   "source": [
    "print(data)"
   ]
  },
  {
   "cell_type": "code",
   "execution_count": null,
   "id": "b6653d58",
   "metadata": {},
   "outputs": [],
   "source": []
  }
 ],
 "metadata": {
  "kernelspec": {
   "display_name": "Python 3",
   "language": "python",
   "name": "python3"
  },
  "language_info": {
   "codemirror_mode": {
    "name": "ipython",
    "version": 3
   },
   "file_extension": ".py",
   "mimetype": "text/x-python",
   "name": "python",
   "nbconvert_exporter": "python",
   "pygments_lexer": "ipython3",
   "version": "3.8.8"
  }
 },
 "nbformat": 4,
 "nbformat_minor": 5
}
